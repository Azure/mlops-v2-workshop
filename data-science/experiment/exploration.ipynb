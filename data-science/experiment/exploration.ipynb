{
  "cells": [
    {
      "cell_type": "markdown",
      "source": [
        "# Exploration Example"
      ],
      "metadata": {}
    },
    {
      "cell_type": "markdown",
      "source": [
        "The goal of this notebook is to walk you through a sample Data Science exploration notebook that uses Azure ML features to make your life easier.  \n",
        "\n",
        "First, you'll do some setup to bind to your Azure ML Workspace.  \n",
        "Next, you'll run a classic Data Science experiment, but with a few extras to use Azure ML. In particular, this will allow you to log metrics in the Azure ML UI, so that you can track and compare your experiments much more easily.  \n",
        "\n",
        "\n",
        "<b>Summary:</b>\n",
        "\n",
        "1. [Set up](#setup)\n",
        "\n",
        "    1. [Import Librairies](#import_libs)\n",
        "\n",
        "    2. [Connect to Azure ML Workspace](#setup_azureml)\n",
        "\n",
        "    3. [Set up MLFlow](#setup_mlflow)\n",
        "\n",
        "2. [Experiment](#experiment)\n",
        "\n",
        "    1. [Load Data](#load_data)\n",
        "\n",
        "    2. [(Optional) Create Data Assets](#create_data_assets)\n",
        "\n",
        "    3. [(Optional) Load Data Assets](#load_data_assets)\n",
        "\n",
        "    4. [Prepare Data](#prepare_data)\n",
        "\n",
        "    5. [Train Model](#train_model)\n",
        "\n",
        "    6. [Evaluate Model](#evaluate_model)\n",
        "    \n",
        "    7. [Retrieve Logged Metadata](#retrieve_metadata)"
      ],
      "metadata": {}
    },
    {
      "cell_type": "markdown",
      "source": [
        "## Set up <a name=\"setup\"></a>"
      ],
      "metadata": {}
    },
    {
      "cell_type": "markdown",
      "source": [
        "In order to log metadata about your experiments in Azure ML, you must use MLFlow. MLFlow is an open source tool, which Azure ML has integrated into their platform.\n",
        "\n",
        "To log metadata with MLFlow, you need to start an MLFlow run: <code>mlflow.start_run()</code>. Also, at the end of the run, you need to do <code>mlflow.end_run()</code>.\n",
        "\n",
        "NB: In a notebook, it happens that an MLFlow run was started and was not ended, for example if one cell execution crashes in between. If this happens, uncomment the next cell and run it. Note that this won't happen in the industrialized code if the MLFlow context is well handled (with a <code>with</code> statement). You have examples of that in the <em>mlops/components</em> folder."
      ],
      "metadata": {}
    },
    {
      "cell_type": "code",
      "source": [
        "# Uncomment and run the following line of code only if an MLFlow run was started and not was not ended.\n",
        "import mlflow\n",
        "mlflow.end_run()"
      ],
      "outputs": [],
      "execution_count": 1,
      "metadata": {
        "gather": {
          "logged": 1682385063467
        }
      }
    },
    {
      "cell_type": "markdown",
      "source": [
        "### Import Librairies <a name=\"import_libs\"></a>"
      ],
      "metadata": {}
    },
    {
      "cell_type": "code",
      "source": [
        "# Utility libs\n",
        "import os\n",
        "import re\n",
        "import pprint\n",
        "import warnings\n",
        "import datetime\n",
        "\n",
        "warnings.filterwarnings(\"ignore\")  # Ignore warnings (they are caused by Azure ML experimental classes)\n",
        "\n",
        "# General ML/Data libs\n",
        "import pandas as pd\n",
        "\n",
        "# AzureML/MLFlow libs\n",
        "from azure.identity import DefaultAzureCredential\n",
        "from azure.ai.ml import MLClient\n",
        "from azure.ai.ml.entities import Data\n",
        "from azure.ai.ml.constants import AssetTypes\n",
        "\n",
        "import mlflow\n",
        "from mlflow.tracking import MlflowClient\n"
      ],
      "outputs": [],
      "execution_count": 2,
      "metadata": {
        "gather": {
          "logged": 1682385064837
        }
      }
    },
    {
      "cell_type": "markdown",
      "source": [
        "### Connect to Azure ML Workspace <a name=\"setup_azureml\"></a>"
      ],
      "metadata": {}
    },
    {
      "cell_type": "markdown",
      "source": [
        "In order to communicate with your Azure ML workspace (create artifacts, retrieve artifacts, etc.), you need to instanciate an Azure ML client, with a proper authentication."
      ],
      "metadata": {}
    },
    {
      "cell_type": "code",
      "source": [
        "# Retrieve details of Azure ML workspace from environment variables of your Compute Instance\n",
        "subscription_id = re.search(\"subscriptions/(.*)/resourceGroups\", os.environ[\"MLFLOW_TRACKING_URI\"]).group(\n",
        "    1\n",
        ")  # Extract Azure Subcription ID from MLFlow Tracking URI\n",
        "resource_group = os.environ[\"CI_RESOURCE_GROUP\"]\n",
        "workspace_name = os.environ[\"CI_WORKSPACE\"]\n",
        "\n",
        "# Connect to Azure ML workspace\n",
        "ml_client = MLClient(\n",
        "    credential=DefaultAzureCredential(),\n",
        "    subscription_id=subscription_id,\n",
        "    resource_group_name=resource_group,\n",
        "    workspace_name=workspace_name,\n",
        ")"
      ],
      "outputs": [],
      "execution_count": 3,
      "metadata": {
        "gather": {
          "logged": 1682385065451
        }
      }
    },
    {
      "cell_type": "markdown",
      "source": [
        "### Set up MLFlow <a name=\"setup_mlflow\"></a>"
      ],
      "metadata": {}
    },
    {
      "cell_type": "markdown",
      "source": [
        "Here, we do three things to set up MLFlow:\n",
        "- We link MLFlow to our Azure ML workspace.\n",
        "- We define an experiment name, which will be a namespace in the UI with multiple runs grouped into.\n",
        "- We set up the autolog module. This module is optional, but makes life easier because it logs a lot of information about our runs/models for us that we don't need to log explicitly. This only works with certain types of models, including sklearn models. Refer to the MLFlow documentation for more information.\n"
      ],
      "metadata": {}
    },
    {
      "cell_type": "code",
      "source": [
        "# Set tracking environment\n",
        "# automatically set on compute instance\n",
        "# azureml_mlflow_uri = ml_client.workspaces.get(workspace_name).mlflow_tracking_uri\n",
        "# mlflow.set_tracking_uri(azureml_mlflow_uri)"
      ],
      "outputs": [],
      "execution_count": 4,
      "metadata": {
        "gather": {
          "logged": 1682385065868
        }
      }
    },
    {
      "cell_type": "code",
      "source": [
        "# Set experiment name\n",
        "use_case_name = \"taxi\"\n",
        "experiment_name = f\"{use_case_name}-exploration\"\n",
        "mlflow.set_experiment(experiment_name)"
      ],
      "outputs": [
        {
          "output_type": "execute_result",
          "execution_count": 5,
          "data": {
            "text/plain": "<Experiment: artifact_location='', creation_time=1682382196036, experiment_id='60700d7f-3afa-4610-8013-6f746b478ea7', last_update_time=None, lifecycle_stage='active', name='taxi-exploration', tags={}>"
          },
          "metadata": {}
        }
      ],
      "execution_count": 5,
      "metadata": {
        "gather": {
          "logged": 1682385066506
        }
      }
    },
    {
      "cell_type": "code",
      "source": [
        "# Enable autologging, which works with sklearn models (among other kinds of models)\n",
        "mlflow.autolog()"
      ],
      "outputs": [],
      "execution_count": 6,
      "metadata": {
        "gather": {
          "logged": 1682385067051
        }
      }
    },
    {
      "cell_type": "markdown",
      "source": [
        "## Experiment <a name=\"experiment\"></a>"
      ],
      "metadata": {}
    },
    {
      "cell_type": "code",
      "source": [
        "# Start MLFlow run for logging metadata into that run\n",
        "run_name = f'exploration {datetime.datetime.now().strftime(\"%Y-%m-%d %H:%M\")}'\n",
        "run = mlflow.start_run(run_name=run_name)"
      ],
      "outputs": [],
      "execution_count": 7,
      "metadata": {
        "gather": {
          "logged": 1682385067455
        }
      }
    },
    {
      "cell_type": "markdown",
      "source": [
        "### Load Data <a name=\"load_data\"></a>"
      ],
      "metadata": {
        "nteract": {
          "transient": {
            "deleting": false
          }
        }
      }
    },
    {
      "cell_type": "markdown",
      "source": [
        "We get the data from an Azure ML Datastore. An Azure ML Datastore is an entity of the Azure ML Workspace, that points to a data source (encapsulating the connection to it). Refer to the Azure ML documentation for more information.\n",
        "\n",
        "You can see the Datastore in the UI.\n",
        "\n",
        "NB: In the exploration phase, the Datastore used must point to a \"data-science\" container, where Data Scientists can upload the data files of their choice. But later, in the industrialization phase (Python files and ML Pipelines), the Datastore used must point to a \"data-store\" container, where the data is provided by Data Engineers in an industrialized way."
      ],
      "metadata": {}
    },
    {
      "cell_type": "code",
      "source": [
        "datastore_name = \"datascience\"\n",
        "path_in_datastore = \"/taxi-data.csv\"\n",
        "\n",
        "# Get Azure ML Datastore path where input data files reside\n",
        "data_path = f\"azureml://subscriptions/{subscription_id}/resourcegroups/{resource_group}/workspaces/{workspace_name}/datastores/{datastore_name}/paths/{path_in_datastore}\"\n",
        "data = pd.read_csv(data_path)\n",
        "\n",
        "mlflow.set_tag(\"input_data_path\", data_path)"
      ],
      "outputs": [],
      "execution_count": 8,
      "metadata": {
        "jupyter": {
          "outputs_hidden": false,
          "source_hidden": false
        },
        "nteract": {
          "transient": {
            "deleting": false
          }
        },
        "gather": {
          "logged": 1682385070191
        }
      }
    },
    {
      "cell_type": "markdown",
      "source": [
        "NB: It is possible to load data from an Azure ML Datastore with Pandas directly thanks to the <em>azureml-fsspec</em> library."
      ],
      "metadata": {}
    },
    {
      "cell_type": "markdown",
      "source": [
        "### (Optional) Create Data Asset <a name=\"create_data_asset\"></a>"
      ],
      "metadata": {}
    },
    {
      "cell_type": "markdown",
      "source": [
        "Azure ML Data Assets are convenient entities to share datasets among Data Scientists. They are versioned and contain metadata. You can see the list of Data Assets in the UI. For more information, see Azure ML documentation.\n",
        "\n",
        "NB: Using Data Assets in this notebook is optional. You could simply train your model with the Pandas data. But making use of Data Assets is a good practice."
      ],
      "metadata": {}
    },
    {
      "cell_type": "code",
      "source": [
        "# A Data Asset is created from a path\n",
        "train_data_asset = Data(\n",
        "    path=data_path,\n",
        "    type=AssetTypes.URI_FILE,\n",
        "    description=\"Dataset for Exploration\",\n",
        "    name=\"taxi-data-exploration\",\n",
        ")\n",
        "ml_client.data.create_or_update(train_data_asset)"
      ],
      "outputs": [
        {
          "output_type": "execute_result",
          "execution_count": 9,
          "data": {
            "text/plain": "Data({'skip_validation': False, 'mltable_schema_url': None, 'referenced_uris': None, 'type': 'uri_file', 'is_anonymous': False, 'auto_increment_version': False, 'name': 'taxi-data-exploration', 'description': 'Dataset for Exploration', 'tags': {}, 'properties': {}, 'print_as_yaml': True, 'id': '/subscriptions/d5eebdae-19f7-4198-a12e-04fdec08b615/resourceGroups/amldemos/providers/Microsoft.MachineLearningServices/workspaces/amldemos/data/taxi-data-exploration/versions/6', 'Resource__source_path': None, 'base_path': '/mnt/batch/tasks/shared/LS_root/mounts/clusters/mam-worstation/code/Users/maggiemhanna/mlops-v2-training/data-science/experiment', 'creation_context': <azure.ai.ml.entities._system_data.SystemData object at 0x7fea67ca2a70>, 'serialize': <msrest.serialization.Serializer object at 0x7fea380cfd90>, 'version': '6', 'latest_version': None, 'path': 'azureml://subscriptions/d5eebdae-19f7-4198-a12e-04fdec08b615/resourcegroups/amldemos/workspaces/amldemos/datastores/datascience/paths//taxi-data.csv', 'datastore': None})"
          },
          "metadata": {}
        }
      ],
      "execution_count": 9,
      "metadata": {
        "gather": {
          "logged": 1682385070712
        }
      }
    },
    {
      "cell_type": "markdown",
      "source": [
        "### (Optional) Load Data Assets <a name=\"load_data_assets\"></a>"
      ],
      "metadata": {}
    },
    {
      "cell_type": "markdown",
      "source": [
        "If you've previously created Data Assets, you can also load them with Pandas. The <em>azureml-fsspec</em> library is needed, like for loading data from a Datastore.\n",
        "\n",
        "NB: When a Data Asset is created from a local file, the data is uploaded somewhere on the default Datastore. We retrieve this path first."
      ],
      "metadata": {}
    },
    {
      "cell_type": "code",
      "source": [
        "# Load each Azure ML Data Asset as a Pandas DataFrame\n",
        "data_asset = ml_client.data.get(name=\"taxi-data-exploration\", label=\"latest\")  # Latest version of the Data Asset\n",
        "data = pd.read_csv(data_asset.path, index_col=0)\n",
        "data.head()"
      ],
      "outputs": [
        {
          "output_type": "execute_result",
          "execution_count": 10,
          "data": {
            "text/plain": "   cost  distance  dropoff_latitude  dropoff_longitude  passengers   \n0   4.5      0.83         40.694546         -73.976112           1  \\\n1   6.0      1.27         40.812149         -73.959755           1   \n2   9.5      1.80         40.678741         -73.980309           1   \n3   4.0      0.50         40.754715         -73.925499           1   \n4   6.0      0.90         40.669662         -73.911041           1   \n\n   pickup_latitude  pickup_longitude  store_forward  vendor  pickup_weekday   \n0        40.693836        -73.987267              0       2               6  \\\n1        40.801468        -73.948456              0       2               1   \n2        40.679798        -73.955444              0       2               1   \n3        40.760818        -73.922935              0       1               4   \n4        40.664940        -73.923042              0       1               4   \n\n   ...  pickup_monthday  pickup_hour  pickup_minute  pickup_second   \n0  ...                3           21              2             35  \\\n1  ...               19           21             49             17   \n2  ...                5            9             46             18   \n3  ...                8           17             49             12   \n4  ...               29           10             28             21   \n\n   dropoff_weekday  dropoff_month  dropoff_monthday  dropoff_hour   \n0                6              1                 3            21  \\\n1                1              1                19            21   \n2                1              1                 5             9   \n3                4              1                 8            17   \n4                4              1                29            10   \n\n   dropoff_minute  dropoff_second  \n0               5              52  \n1              54              37  \n2              57              28  \n3              52              20  \n4              34              59  \n\n[5 rows x 21 columns]",
            "text/html": "<div>\n<style scoped>\n    .dataframe tbody tr th:only-of-type {\n        vertical-align: middle;\n    }\n\n    .dataframe tbody tr th {\n        vertical-align: top;\n    }\n\n    .dataframe thead th {\n        text-align: right;\n    }\n</style>\n<table border=\"1\" class=\"dataframe\">\n  <thead>\n    <tr style=\"text-align: right;\">\n      <th></th>\n      <th>cost</th>\n      <th>distance</th>\n      <th>dropoff_latitude</th>\n      <th>dropoff_longitude</th>\n      <th>passengers</th>\n      <th>pickup_latitude</th>\n      <th>pickup_longitude</th>\n      <th>store_forward</th>\n      <th>vendor</th>\n      <th>pickup_weekday</th>\n      <th>...</th>\n      <th>pickup_monthday</th>\n      <th>pickup_hour</th>\n      <th>pickup_minute</th>\n      <th>pickup_second</th>\n      <th>dropoff_weekday</th>\n      <th>dropoff_month</th>\n      <th>dropoff_monthday</th>\n      <th>dropoff_hour</th>\n      <th>dropoff_minute</th>\n      <th>dropoff_second</th>\n    </tr>\n  </thead>\n  <tbody>\n    <tr>\n      <th>0</th>\n      <td>4.5</td>\n      <td>0.83</td>\n      <td>40.694546</td>\n      <td>-73.976112</td>\n      <td>1</td>\n      <td>40.693836</td>\n      <td>-73.987267</td>\n      <td>0</td>\n      <td>2</td>\n      <td>6</td>\n      <td>...</td>\n      <td>3</td>\n      <td>21</td>\n      <td>2</td>\n      <td>35</td>\n      <td>6</td>\n      <td>1</td>\n      <td>3</td>\n      <td>21</td>\n      <td>5</td>\n      <td>52</td>\n    </tr>\n    <tr>\n      <th>1</th>\n      <td>6.0</td>\n      <td>1.27</td>\n      <td>40.812149</td>\n      <td>-73.959755</td>\n      <td>1</td>\n      <td>40.801468</td>\n      <td>-73.948456</td>\n      <td>0</td>\n      <td>2</td>\n      <td>1</td>\n      <td>...</td>\n      <td>19</td>\n      <td>21</td>\n      <td>49</td>\n      <td>17</td>\n      <td>1</td>\n      <td>1</td>\n      <td>19</td>\n      <td>21</td>\n      <td>54</td>\n      <td>37</td>\n    </tr>\n    <tr>\n      <th>2</th>\n      <td>9.5</td>\n      <td>1.80</td>\n      <td>40.678741</td>\n      <td>-73.980309</td>\n      <td>1</td>\n      <td>40.679798</td>\n      <td>-73.955444</td>\n      <td>0</td>\n      <td>2</td>\n      <td>1</td>\n      <td>...</td>\n      <td>5</td>\n      <td>9</td>\n      <td>46</td>\n      <td>18</td>\n      <td>1</td>\n      <td>1</td>\n      <td>5</td>\n      <td>9</td>\n      <td>57</td>\n      <td>28</td>\n    </tr>\n    <tr>\n      <th>3</th>\n      <td>4.0</td>\n      <td>0.50</td>\n      <td>40.754715</td>\n      <td>-73.925499</td>\n      <td>1</td>\n      <td>40.760818</td>\n      <td>-73.922935</td>\n      <td>0</td>\n      <td>1</td>\n      <td>4</td>\n      <td>...</td>\n      <td>8</td>\n      <td>17</td>\n      <td>49</td>\n      <td>12</td>\n      <td>4</td>\n      <td>1</td>\n      <td>8</td>\n      <td>17</td>\n      <td>52</td>\n      <td>20</td>\n    </tr>\n    <tr>\n      <th>4</th>\n      <td>6.0</td>\n      <td>0.90</td>\n      <td>40.669662</td>\n      <td>-73.911041</td>\n      <td>1</td>\n      <td>40.664940</td>\n      <td>-73.923042</td>\n      <td>0</td>\n      <td>1</td>\n      <td>4</td>\n      <td>...</td>\n      <td>29</td>\n      <td>10</td>\n      <td>28</td>\n      <td>21</td>\n      <td>4</td>\n      <td>1</td>\n      <td>29</td>\n      <td>10</td>\n      <td>34</td>\n      <td>59</td>\n    </tr>\n  </tbody>\n</table>\n<p>5 rows × 21 columns</p>\n</div>"
          },
          "metadata": {}
        }
      ],
      "execution_count": 10,
      "metadata": {
        "gather": {
          "logged": 1682385071325
        }
      }
    },
    {
      "cell_type": "markdown",
      "source": [
        "# Step: Prep Data"
      ],
      "metadata": {
        "nteract": {
          "transient": {
            "deleting": false
          }
        }
      }
    },
    {
      "cell_type": "markdown",
      "source": [
        "Most of useful metrics are logged by the autolog module mentionned earlier. But you can also log anything you want, like here we log metrics about the data: size of the train and test sets, number of features."
      ],
      "metadata": {}
    },
    {
      "cell_type": "code",
      "source": [
        "import argparse\n",
        "\n",
        "from pathlib import Path\n",
        "import os\n",
        "import numpy as np\n",
        "import pandas as pd\n",
        "\n",
        "import mlflow\n",
        "\n",
        "TARGET_COL = \"cost\"\n",
        "\n",
        "NUMERIC_COLS = [\n",
        "    \"distance\", \"dropoff_latitude\", \"dropoff_longitude\", \"passengers\", \"pickup_latitude\",\n",
        "    \"pickup_longitude\", \"pickup_weekday\", \"pickup_month\", \"pickup_monthday\", \"pickup_hour\",\n",
        "    \"pickup_minute\", \"pickup_second\", \"dropoff_weekday\", \"dropoff_month\", \"dropoff_monthday\",\n",
        "    \"dropoff_hour\", \"dropoff_minute\", \"dropoff_second\"\n",
        "]\n",
        "\n",
        "CAT_NOM_COLS = [\n",
        "    \"store_forward\", \"vendor\"\n",
        "]\n",
        "\n",
        "CAT_ORD_COLS = [\n",
        "]\n",
        "\n",
        "raw_data = data_asset.path\n",
        "train_data = \"/tmp/prep/train\"\n",
        "val_data = \"/tmp/prep/val\"\n",
        "test_data = \"/tmp/prep/test\"\n",
        "\n",
        "os.makedirs(train_data, exist_ok = True)\n",
        "os.makedirs(val_data, exist_ok = True)\n",
        "os.makedirs(test_data, exist_ok = True)\n",
        "\n",
        "'''Read, split, and save datasets'''\n",
        "\n",
        "# ------------ Reading Data ------------ #\n",
        "# -------------------------------------- #\n",
        "\n",
        "data = pd.read_csv(raw_data)\n",
        "data = data[NUMERIC_COLS + CAT_NOM_COLS + CAT_ORD_COLS + [TARGET_COL]]\n",
        "\n",
        "# ------------- Split Data ------------- #\n",
        "# -------------------------------------- #\n",
        "\n",
        "# Split data into train, val and test datasets\n",
        "\n",
        "random_data = np.random.rand(len(data))\n",
        "\n",
        "msk_train = random_data < 0.7\n",
        "msk_val = (random_data >= 0.7) & (random_data < 0.85)\n",
        "msk_test = random_data >= 0.85\n",
        "\n",
        "train = data[msk_train]\n",
        "val = data[msk_val]\n",
        "test = data[msk_test]\n",
        "\n",
        "mlflow.log_metric('train size', train.shape[0])\n",
        "mlflow.log_metric('val size', val.shape[0])\n",
        "mlflow.log_metric('test size', test.shape[0])\n",
        "\n",
        "train.to_parquet((Path(train_data) / \"train.parquet\"))\n",
        "val.to_parquet((Path(val_data) / \"val.parquet\"))\n",
        "test.to_parquet((Path(test_data) / \"test.parquet\"))"
      ],
      "outputs": [],
      "execution_count": 11,
      "metadata": {
        "gather": {
          "logged": 1682385073198
        }
      }
    },
    {
      "cell_type": "markdown",
      "source": [
        "Metrics logged are visible in the UI (in Jobs), even if the run wasn't ended yet:"
      ],
      "metadata": {}
    },
    {
      "cell_type": "markdown",
      "source": [
        "### Train Model <a name=\"train_model\"></a>"
      ],
      "metadata": {
        "nteract": {
          "transient": {
            "deleting": false
          }
        }
      }
    },
    {
      "cell_type": "code",
      "source": [
        "import argparse\n",
        "\n",
        "from pathlib import Path\n",
        "\n",
        "import numpy as np\n",
        "import pandas as pd\n",
        "from matplotlib import pyplot as plt\n",
        "\n",
        "from sklearn.ensemble import RandomForestRegressor\n",
        "from sklearn.metrics import r2_score, mean_absolute_error, mean_squared_error\n",
        "\n",
        "import mlflow\n",
        "import mlflow.sklearn\n",
        "\n",
        "TARGET_COL = \"cost\"\n",
        "\n",
        "NUMERIC_COLS = [\n",
        "    \"distance\", \"dropoff_latitude\", \"dropoff_longitude\", \"passengers\", \"pickup_latitude\",\n",
        "    \"pickup_longitude\", \"pickup_weekday\", \"pickup_month\", \"pickup_monthday\", \"pickup_hour\",\n",
        "    \"pickup_minute\", \"pickup_second\", \"dropoff_weekday\", \"dropoff_month\", \"dropoff_monthday\",\n",
        "    \"dropoff_hour\", \"dropoff_minute\", \"dropoff_second\"\n",
        "]\n",
        "\n",
        "CAT_NOM_COLS = [\n",
        "    \"store_forward\", \"vendor\"\n",
        "]\n",
        "\n",
        "CAT_ORD_COLS = [\n",
        "]\n",
        "\n",
        "train_data = \"/tmp/prep/train\"\n",
        "model_output = \"/tmp/train\"\n",
        "\n",
        "os.makedirs(model_output, exist_ok = True)\n",
        "\n",
        "regressor__n_estimators = 500\n",
        "regressor__bootstrap = 1\n",
        "regressor__max_depth = 10\n",
        "regressor__max_features = \"auto\"\n",
        "regressor__min_samples_leaf = 4\n",
        "regressor__min_samples_split = 5\n",
        "\n",
        "'''Read train dataset, train model, save trained model'''\n",
        "\n",
        "# Read train data\n",
        "train_data = pd.read_parquet(Path(train_data) / \"train.parquet\" )\n",
        "\n",
        "# Split the data into input(X) and output(y)\n",
        "y_train = train_data[TARGET_COL]\n",
        "X_train = train_data[NUMERIC_COLS + CAT_NOM_COLS + CAT_ORD_COLS]\n",
        "\n",
        "# Train a Random Forest Regression Model with the training set\n",
        "model = RandomForestRegressor(n_estimators = regressor__n_estimators,\n",
        "                                bootstrap = regressor__bootstrap,\n",
        "                                max_depth = regressor__max_depth,\n",
        "                                max_features = regressor__max_features,\n",
        "                                min_samples_leaf = regressor__min_samples_leaf,\n",
        "                                min_samples_split = regressor__min_samples_split,\n",
        "                                random_state=0)\n",
        "\n",
        "# log model hyperparameters\n",
        "mlflow.log_param(\"model\", \"RandomForestRegressor\")\n",
        "mlflow.log_param(\"n_estimators\", regressor__n_estimators)\n",
        "mlflow.log_param(\"bootstrap\", regressor__bootstrap)\n",
        "mlflow.log_param(\"max_depth\", regressor__max_depth)\n",
        "mlflow.log_param(\"max_features\", regressor__max_features)\n",
        "mlflow.log_param(\"min_samples_leaf\", regressor__min_samples_leaf)\n",
        "mlflow.log_param(\"min_samples_split\", regressor__min_samples_split)\n",
        "\n",
        "# Train model with the train set\n",
        "model.fit(X_train, y_train)\n",
        "\n",
        "# Predict using the Regression Model\n",
        "yhat_train = model.predict(X_train)\n",
        "\n",
        "# Evaluate Regression performance with the train set\n",
        "r2 = r2_score(y_train, yhat_train)\n",
        "mse = mean_squared_error(y_train, yhat_train)\n",
        "rmse = np.sqrt(mse)\n",
        "mae = mean_absolute_error(y_train, yhat_train)\n",
        "\n",
        "# log model performance metrics\n",
        "mlflow.log_metric(\"train r2\", r2)\n",
        "mlflow.log_metric(\"train mse\", mse)\n",
        "mlflow.log_metric(\"train rmse\", rmse)\n",
        "mlflow.log_metric(\"train mae\", mae)\n",
        "\n",
        "# Visualize results\n",
        "plt.scatter(y_train, yhat_train,  color='black')\n",
        "plt.plot(y_train, y_train, color='blue', linewidth=3)\n",
        "plt.xlabel(\"Real value\")\n",
        "plt.ylabel(\"Predicted value\")\n",
        "plt.savefig(\"regression_results.png\")\n",
        "mlflow.log_artifact(\"regression_results.png\")\n",
        "\n",
        "# Save the model\n",
        "mlflow.sklearn.save_model(sk_model=model, path=model_output)"
      ],
      "outputs": [
        {
          "output_type": "stream",
          "name": "stderr",
          "text": "2023/04/25 01:11:12 WARNING mlflow.utils.autologging_utils: You are using an unsupported version of sklearn. If you encounter errors during autologging, try upgrading / downgrading sklearn to a supported version, or try upgrading MLflow.\n2023/04/25 01:11:12 INFO mlflow.tracking.fluent: Autologging successfully enabled for sklearn.\n2023/04/25 01:11:41 WARNING mlflow.utils.autologging_utils: Encountered unexpected error during sklearn autologging: UserError: Resource Conflict: ArtifactId ExperimentRun/dcid.0384b01a-9057-454b-b07e-3d4c6ac85741/metric_info.json already exists.\n2023/04/25 01:11:42 WARNING mlflow.utils.autologging_utils: Encountered unexpected error during sklearn autologging: UserError: Resource Conflict: ArtifactId ExperimentRun/dcid.0384b01a-9057-454b-b07e-3d4c6ac85741/metric_info.json already exists.\n"
        },
        {
          "output_type": "display_data",
          "data": {
            "text/plain": "<Figure size 640x480 with 1 Axes>",
            "image/png": "[encoded data removed]"
          },
          "metadata": {}
        }
      ],
      "execution_count": 12,
      "metadata": {
        "gather": {
          "logged": 1682385108144
        }
      }
    },
    {
      "cell_type": "markdown",
      "source": [
        "MLFlow's autolog logs several metadata when <code>model.fit()</code> is executed:\n",
        "- Hyperparameters used (e.g. n_estimators)\n",
        "- Metrics calculated on the training set (e.g. MSE, MAE, R2)\n",
        "- Other metadata, like the class used (e.g. sklearn.ensemble._forest.RandomForestRegressor)"
      ],
      "metadata": {}
    },
    {
      "cell_type": "markdown",
      "source": [
        "### Evaluate Model <a name=\"evaluate_model\"></a>"
      ],
      "metadata": {}
    },
    {
      "cell_type": "code",
      "source": [
        "import argparse\n",
        "from pathlib import Path\n",
        "\n",
        "import numpy as np\n",
        "import pandas as pd\n",
        "from matplotlib import pyplot as plt\n",
        "\n",
        "from sklearn.metrics import r2_score, mean_absolute_error, mean_squared_error\n",
        "\n",
        "import mlflow\n",
        "import mlflow.sklearn\n",
        "import mlflow.pyfunc\n",
        "from mlflow.tracking import MlflowClient\n",
        "\n",
        "TARGET_COL = \"cost\"\n",
        "\n",
        "NUMERIC_COLS = [\n",
        "    \"distance\", \"dropoff_latitude\", \"dropoff_longitude\", \"passengers\", \"pickup_latitude\",\n",
        "    \"pickup_longitude\", \"pickup_weekday\", \"pickup_month\", \"pickup_monthday\", \"pickup_hour\",\n",
        "    \"pickup_minute\", \"pickup_second\", \"dropoff_weekday\", \"dropoff_month\", \"dropoff_monthday\",\n",
        "    \"dropoff_hour\", \"dropoff_minute\", \"dropoff_second\"\n",
        "]\n",
        "\n",
        "CAT_NOM_COLS = [\n",
        "    \"store_forward\", \"vendor\"\n",
        "]\n",
        "\n",
        "CAT_ORD_COLS = [\n",
        "]\n",
        "\n",
        "model_name = \"taxi-model\"\n",
        "model_input = \"/tmp/train\"\n",
        "test_data = \"/tmp/prep/test\"\n",
        "\n",
        "def model_evaluation(X_test, y_test, model):\n",
        "\n",
        "    # Get predictions to y_test (y_test)\n",
        "    yhat_test = model.predict(X_test)\n",
        "\n",
        "    # Evaluate Model performance with the test set\n",
        "    r2 = r2_score(y_test, yhat_test)\n",
        "    mse = mean_squared_error(y_test, yhat_test)\n",
        "    rmse = np.sqrt(mse)\n",
        "    mae = mean_absolute_error(y_test, yhat_test)\n",
        "\n",
        "    mlflow.log_metric(\"test r2\", r2)\n",
        "    mlflow.log_metric(\"test mse\", mse)\n",
        "    mlflow.log_metric(\"test rmse\", rmse)\n",
        "    mlflow.log_metric(\"test mae\", mae)\n",
        "\n",
        "    # Visualize results\n",
        "    plt.scatter(y_test, yhat_test,  color='black')\n",
        "    plt.plot(y_test, y_test, color='blue', linewidth=3)\n",
        "    plt.xlabel(\"Real value\")\n",
        "    plt.ylabel(\"Predicted value\")\n",
        "    plt.title(\"Comparing Model Predictions to Real values - Test Data\")\n",
        "    plt.savefig(\"predictions.png\")\n",
        "    mlflow.log_artifact(\"predictions.png\")\n",
        "\n",
        "    return yhat_test, r2\n",
        "\n",
        "\n",
        "'''Read trained model and test dataset, evaluate model and save result'''\n",
        "\n",
        "# Load the test data\n",
        "test_data = pd.read_parquet(Path(test_data)/\"test.parquet\")\n",
        "\n",
        "# Split the data into inputs and outputs\n",
        "y_test = test_data[TARGET_COL]\n",
        "X_test = test_data[NUMERIC_COLS + CAT_NOM_COLS + CAT_ORD_COLS]\n",
        "\n",
        "# Load the model from input port\n",
        "model =  mlflow.sklearn.load_model(model_input) \n",
        "\n",
        "# ---------------- Model Evaluation ---------------- #\n",
        "yhat_test, score = model_evaluation(X_test, y_test, model)"
      ],
      "outputs": [
        {
          "output_type": "stream",
          "name": "stderr",
          "text": "2023/04/25 01:11:47 WARNING mlflow.utils.autologging_utils: Encountered unexpected error during sklearn autologging: UserError: Resource Conflict: ArtifactId ExperimentRun/dcid.0384b01a-9057-454b-b07e-3d4c6ac85741/metric_info.json already exists.\n2023/04/25 01:11:48 WARNING mlflow.utils.autologging_utils: Encountered unexpected error during sklearn autologging: UserError: Resource Conflict: ArtifactId ExperimentRun/dcid.0384b01a-9057-454b-b07e-3d4c6ac85741/metric_info.json already exists.\n2023/04/25 01:11:49 WARNING mlflow.utils.autologging_utils: Encountered unexpected error during sklearn autologging: UserError: Resource Conflict: ArtifactId ExperimentRun/dcid.0384b01a-9057-454b-b07e-3d4c6ac85741/metric_info.json already exists.\n"
        },
        {
          "output_type": "display_data",
          "data": {
            "text/plain": "<Figure size 640x480 with 1 Axes>",
            "image/png": "[encoded data removed]"
          },
          "metadata": {}
        }
      ],
      "execution_count": 13,
      "metadata": {
        "gather": {
          "logged": 1682385114229
        }
      }
    },
    {
      "cell_type": "markdown",
      "source": [
        "MLFlow's autolog can also log metrics that were calculated after the fit, for example evaluation metrics on the test set.\n",
        "\n",
        "NB: The metrics should be calculated with supported APIs, like the scikit-learn metric APIs. Otherwise, autolog will have no effect and you will have to manually log your metrics."
      ],
      "metadata": {}
    },
    {
      "cell_type": "markdown",
      "source": [
        "## Retrieve Logged Metadata <a name=\"retrieve_metadata\"></a>"
      ],
      "metadata": {}
    },
    {
      "cell_type": "markdown",
      "source": [
        "As we saw earlier, we can retrieve all logged metadata from the UI. But, it is also possible to retrieve them via code."
      ],
      "metadata": {}
    },
    {
      "cell_type": "code",
      "source": [
        "# Instanciate MLFlow client\n",
        "mlflow_client = MlflowClient()"
      ],
      "outputs": [],
      "execution_count": 14,
      "metadata": {
        "gather": {
          "logged": 1682385114600
        }
      }
    },
    {
      "cell_type": "code",
      "source": [
        "# Retrieve MLFlow run from Azure ML run_id\n",
        "run_id = run.info.run_id\n",
        "finished_mlflow_run = mlflow_client.get_run(run_id)"
      ],
      "outputs": [],
      "execution_count": 15,
      "metadata": {
        "scrolled": false,
        "gather": {
          "logged": 1682385115027
        }
      }
    },
    {
      "cell_type": "code",
      "source": [
        "# Get logged tags and print them\n",
        "tags = finished_mlflow_run.data.tags\n",
        "print(f\"Tags logged for experiment:\\n\")\n",
        "pprint.pprint(tags)\n",
        "print(\"\")"
      ],
      "outputs": [
        {
          "output_type": "stream",
          "name": "stdout",
          "text": "Tags logged for experiment:\n\n{'estimator_class': 'sklearn.ensemble._forest.RandomForestRegressor',\n 'estimator_name': 'RandomForestRegressor',\n 'input_data_path': 'azureml://subscriptions/d5eebdae-19f7-4198-a12e-04fdec08b615/resourcegroups/amldemos/workspaces/amldemos/datastores/datascience/paths//taxi-data.csv',\n 'mlflow.rootRunId': '0384b01a-9057-454b-b07e-3d4c6ac85741',\n 'mlflow.runName': 'exploration 2023-04-25 01:11',\n 'mlflow.user': 'Maggie Mhanna'}\n\n"
        }
      ],
      "execution_count": 16,
      "metadata": {
        "gather": {
          "logged": 1682385115380
        }
      }
    },
    {
      "cell_type": "code",
      "source": [
        "# Get logged params and print them\n",
        "params = finished_mlflow_run.data.params\n",
        "print(f\"Params logged for experiment:\\n\")\n",
        "pprint.pprint(params)"
      ],
      "outputs": [
        {
          "output_type": "stream",
          "name": "stdout",
          "text": "Params logged for experiment:\n\n{'bootstrap': '1',\n 'ccp_alpha': '0.0',\n 'criterion': 'squared_error',\n 'max_depth': '10',\n 'max_features': 'auto',\n 'max_leaf_nodes': 'None',\n 'max_samples': 'None',\n 'min_impurity_decrease': '0.0',\n 'min_samples_leaf': '4',\n 'min_samples_split': '5',\n 'min_weight_fraction_leaf': '0.0',\n 'model': 'RandomForestRegressor',\n 'n_estimators': '500',\n 'n_jobs': 'None',\n 'oob_score': 'False',\n 'random_state': '0',\n 'verbose': '0',\n 'warm_start': 'False'}\n"
        }
      ],
      "execution_count": 17,
      "metadata": {
        "gather": {
          "logged": 1682385115782
        }
      }
    },
    {
      "cell_type": "code",
      "source": [
        "# Get logged metrics and print them\r\n",
        "metrics = finished_mlflow_run.data.metrics\r\n",
        "print(f\"Metrics logged for experiment:\\n\")\r\n",
        "pprint.pprint(metrics)"
      ],
      "outputs": [
        {
          "output_type": "stream",
          "name": "stdout",
          "text": "Metrics logged for experiment:\n\n{'mean_absolute_error-2_X_test': 1.3765201490789196,\n 'mean_absolute_error_X_train': 1.0378760158399218,\n 'mean_squared_error-2_X_test': 8.342202856045803,\n 'mean_squared_error_X_train': 5.686256083308233,\n 'r2_score-2_X_test': 0.890662243933538,\n 'r2_score_X_train': 0.9342001027287262,\n 'test mae': 1.3765201490789196,\n 'test mse': 8.342202856045803,\n 'test r2': 0.890662243933538,\n 'test rmse': 2.8882871837900406,\n 'test size': 1437.0,\n 'train mae': 1.0378760158399218,\n 'train mse': 5.686256083308233,\n 'train r2': 0.9342001027287262,\n 'train rmse': 2.3845871934798764,\n 'train size': 6854.0,\n 'training_mean_absolute_error': 1.0378760158399218,\n 'training_mean_squared_error': 5.686256083308233,\n 'training_r2_score': 0.9342001027287262,\n 'training_root_mean_squared_error': 2.3845871934798764,\n 'training_score': 0.9342001027287262,\n 'val size': 1482.0}\n"
        }
      ],
      "execution_count": 18,
      "metadata": {
        "jupyter": {
          "source_hidden": false,
          "outputs_hidden": false
        },
        "nteract": {
          "transient": {
            "deleting": false
          }
        },
        "gather": {
          "logged": 1682385116240
        }
      }
    },
    {
      "cell_type": "code",
      "source": [
        "mlflow.end_run()"
      ],
      "outputs": [],
      "execution_count": 19,
      "metadata": {
        "jupyter": {
          "source_hidden": false,
          "outputs_hidden": false
        },
        "nteract": {
          "transient": {
            "deleting": false
          }
        },
        "gather": {
          "logged": 1682385116711
        }
      }
    }
  ],
  "metadata": {
    "kernel_info": {
      "name": "python310-sdkv2"
    },
    "kernelspec": {
      "name": "python310-sdkv2",
      "language": "python",
      "display_name": "Python 3.10 - SDK v2"
    },
    "language_info": {
      "name": "python",
      "version": "3.10.10",
      "mimetype": "text/x-python",
      "codemirror_mode": {
        "name": "ipython",
        "version": 3
      },
      "pygments_lexer": "ipython3",
      "nbconvert_exporter": "python",
      "file_extension": ".py"
    },
    "nteract": {
      "version": "nteract-front-end@1.0.0"
    },
    "vscode": {
      "interpreter": {
        "hash": "09fad38919355d528b0832d0c1047254abcb8010a3f71a1399dfaab7c476fadd"
      }
    },
    "microsoft": {
      "ms_spell_check": {
        "ms_spell_check_language": "en"
      },
      "host": {
        "AzureML": {
          "notebookHasBeenCompleted": true
        }
      }
    }
  },
  "nbformat": 4,
  "nbformat_minor": 2
}
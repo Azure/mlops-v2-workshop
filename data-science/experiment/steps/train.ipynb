{
  "cells": [
    {
      "cell_type": "code",
      "source": [
        "import argparse\n",
        "\n",
        "from pathlib import Path\n",
        "\n",
        "import numpy as np\n",
        "import pandas as pd\n",
        "from matplotlib import pyplot as plt\n",
        "\n",
        "from sklearn.ensemble import RandomForestRegressor\n",
        "from sklearn.metrics import r2_score, mean_absolute_error, mean_squared_error\n",
        "\n",
        "import mlflow\n",
        "import mlflow.sklearn"
      ],
      "outputs": [],
      "execution_count": 1,
      "metadata": {
        "gather": {
          "logged": 1682384684994
        }
      }
    },
    {
      "cell_type": "code",
      "source": [
        "TARGET_COL = \"cost\"\n",
        "\n",
        "NUMERIC_COLS = [\n",
        "    \"distance\", \"dropoff_latitude\", \"dropoff_longitude\", \"passengers\", \"pickup_latitude\",\n",
        "    \"pickup_longitude\", \"pickup_weekday\", \"pickup_month\", \"pickup_monthday\", \"pickup_hour\",\n",
        "    \"pickup_minute\", \"pickup_second\", \"dropoff_weekday\", \"dropoff_month\", \"dropoff_monthday\",\n",
        "    \"dropoff_hour\", \"dropoff_minute\", \"dropoff_second\"\n",
        "]\n",
        "\n",
        "CAT_NOM_COLS = [\n",
        "    \"store_forward\", \"vendor\"\n",
        "]\n",
        "\n",
        "CAT_ORD_COLS = [\n",
        "]"
      ],
      "outputs": [],
      "execution_count": 2,
      "metadata": {
        "jupyter": {
          "outputs_hidden": false,
          "source_hidden": false
        },
        "nteract": {
          "transient": {
            "deleting": false
          }
        },
        "gather": {
          "logged": 1682384685185
        }
      }
    },
    {
      "cell_type": "code",
      "source": [
        "# Define Arguments for this step\n",
        "\n",
        "class MyArgs:\n",
        "    def __init__(self, **kwargs):\n",
        "        self.__dict__.update(kwargs)\n",
        "\n",
        "args = MyArgs(\n",
        "                train_data = \"/tmp/prep/train\",\n",
        "                model_output = \"/tmp/train\",\n",
        "                regressor__n_estimators = 500,\n",
        "                regressor__bootstrap = 1,\n",
        "                regressor__max_depth = 10,\n",
        "                regressor__max_features = \"auto\", \n",
        "                regressor__min_samples_leaf = 4,\n",
        "                regressor__min_samples_split = 5\n",
        "                )\n",
        "\n",
        "os.makedirs(args.model_output, exist_ok = True)"
      ],
      "outputs": [],
      "execution_count": 3,
      "metadata": {
        "jupyter": {
          "outputs_hidden": false,
          "source_hidden": false
        },
        "nteract": {
          "transient": {
            "deleting": false
          }
        },
        "gather": {
          "logged": 1682384685338
        }
      }
    },
    {
      "cell_type": "code",
      "source": [
        "\n",
        "def main(args):\n",
        "    '''Read train dataset, train model, save trained model'''\n",
        "\n",
        "    # Read train data\n",
        "    train_data = pd.read_parquet(Path(args.train_data) / \"train.parquet\" )\n",
        "\n",
        "    # Split the data into input(X) and output(y)\n",
        "    y_train = train_data[TARGET_COL]\n",
        "    X_train = train_data[NUMERIC_COLS + CAT_NOM_COLS + CAT_ORD_COLS]\n",
        "\n",
        "    # Train a Random Forest Regression Model with the training set\n",
        "    model = RandomForestRegressor(n_estimators = args.regressor__n_estimators,\n",
        "                                  bootstrap = args.regressor__bootstrap,\n",
        "                                  max_depth = args.regressor__max_depth,\n",
        "                                  max_features = args.regressor__max_features,\n",
        "                                  min_samples_leaf = args.regressor__min_samples_leaf,\n",
        "                                  min_samples_split = args.regressor__min_samples_split,\n",
        "                                  random_state=0)\n",
        "\n",
        "    # log model hyperparameters\n",
        "    mlflow.log_param(\"model\", \"RandomForestRegressor\")\n",
        "    mlflow.log_param(\"n_estimators\", args.regressor__n_estimators)\n",
        "    mlflow.log_param(\"bootstrap\", args.regressor__bootstrap)\n",
        "    mlflow.log_param(\"max_depth\", args.regressor__max_depth)\n",
        "    mlflow.log_param(\"max_features\", args.regressor__max_features)\n",
        "    mlflow.log_param(\"min_samples_leaf\", args.regressor__min_samples_leaf)\n",
        "    mlflow.log_param(\"min_samples_split\", args.regressor__min_samples_split)\n",
        "\n",
        "    # Train model with the train set\n",
        "    model.fit(X_train, y_train)\n",
        "\n",
        "    # Predict using the Regression Model\n",
        "    yhat_train = model.predict(X_train)\n",
        "\n",
        "    # Evaluate Regression performance with the train set\n",
        "    r2 = r2_score(y_train, yhat_train)\n",
        "    mse = mean_squared_error(y_train, yhat_train)\n",
        "    rmse = np.sqrt(mse)\n",
        "    mae = mean_absolute_error(y_train, yhat_train)\n",
        "    \n",
        "    # log model performance metrics\n",
        "    mlflow.log_metric(\"train r2\", r2)\n",
        "    mlflow.log_metric(\"train mse\", mse)\n",
        "    mlflow.log_metric(\"train rmse\", rmse)\n",
        "    mlflow.log_metric(\"train mae\", mae)\n",
        "\n",
        "    # Visualize results\n",
        "    plt.scatter(y_train, yhat_train,  color='black')\n",
        "    plt.plot(y_train, y_train, color='blue', linewidth=3)\n",
        "    plt.xlabel(\"Real value\")\n",
        "    plt.ylabel(\"Predicted value\")\n",
        "    plt.savefig(\"regression_results.png\")\n",
        "    mlflow.log_artifact(\"regression_results.png\")\n",
        "\n",
        "    # Save the model\n",
        "    mlflow.sklearn.save_model(sk_model=model, path=args.model_output)\n"
      ],
      "outputs": [],
      "execution_count": 4,
      "metadata": {
        "jupyter": {
          "outputs_hidden": false,
          "source_hidden": false
        },
        "nteract": {
          "transient": {
            "deleting": false
          }
        },
        "gather": {
          "logged": 1682384685499
        }
      }
    },
    {
      "cell_type": "code",
      "source": [
        "mlflow.start_run()\n",
        "\n",
        "lines = [\n",
        "    f\"Train dataset input path: {args.train_data}\",\n",
        "    f\"Model output path: {args.model_output}\",\n",
        "    f\"n_estimators: {args.regressor__n_estimators}\",\n",
        "    f\"bootstrap: {args.regressor__bootstrap}\",\n",
        "    f\"max_depth: {args.regressor__max_depth}\",\n",
        "    f\"max_features: {args.regressor__max_features}\",\n",
        "    f\"min_samples_leaf: {args.regressor__min_samples_leaf}\",\n",
        "    f\"min_samples_split: {args.regressor__min_samples_split}\"\n",
        "]\n",
        "\n",
        "for line in lines:\n",
        "    print(line)\n",
        "\n",
        "main(args)\n",
        "\n",
        "mlflow.end_run()"
      ],
      "outputs": [
        {
          "output_type": "stream",
          "name": "stdout",
          "text": "Train dataset input path: /tmp/prep/train\nModel output path: /tmp/train\nn_estimators: 500\nbootstrap: 1\nmax_depth: 10\nmax_features: auto\nmin_samples_leaf: 4\nmin_samples_split: 5\n"
        },
        {
          "output_type": "stream",
          "name": "stderr",
          "text": "/anaconda/envs/azureml_py310_sdkv2/lib/python3.10/site-packages/sklearn/utils/_param_validation.py:558: FutureWarning: Passing an int for a boolean parameter is deprecated in version 1.2 and won't be supported anymore in version 1.4.\n  warnings.warn(\n/anaconda/envs/azureml_py310_sdkv2/lib/python3.10/site-packages/sklearn/ensemble/_forest.py:413: FutureWarning: `max_features='auto'` has been deprecated in 1.1 and will be removed in 1.3. To keep the past behaviour, explicitly set `max_features=1.0` or remove this parameter as it is also the default value for RandomForestRegressors and ExtraTreesRegressors.\n  warn(\n/anaconda/envs/azureml_py310_sdkv2/lib/python3.10/site-packages/_distutils_hack/__init__.py:33: UserWarning: Setuptools is replacing distutils.\n  warnings.warn(\"Setuptools is replacing distutils.\")\n"
        },
        {
          "output_type": "display_data",
          "data": {
            "text/plain": "<Figure size 640x480 with 1 Axes>",
            "image/png": "[encoded data removed]"
          },
          "metadata": {}
        }
      ],
      "execution_count": 5,
      "metadata": {
        "jupyter": {
          "outputs_hidden": false,
          "source_hidden": false
        },
        "nteract": {
          "transient": {
            "deleting": false
          }
        },
        "gather": {
          "logged": 1682384713149
        }
      }
    },
    {
      "cell_type": "code",
      "source": [
        "ls \"/tmp/train\" "
      ],
      "outputs": [
        {
          "output_type": "stream",
          "name": "stdout",
          "text": "MLmodel  conda.yaml  model.pkl  python_env.yaml  requirements.txt\r\n"
        }
      ],
      "execution_count": 6,
      "metadata": {
        "gather": {
          "logged": 1682384713359
        }
      }
    }
  ],
  "metadata": {
    "kernel_info": {
      "name": "python310-sdkv2"
    },
    "kernelspec": {
      "name": "python310-sdkv2",
      "language": "python",
      "display_name": "Python 3.10 - SDK v2"
    },
    "language_info": {
      "name": "python",
      "version": "3.10.10",
      "mimetype": "text/x-python",
      "codemirror_mode": {
        "name": "ipython",
        "version": 3
      },
      "pygments_lexer": "ipython3",
      "nbconvert_exporter": "python",
      "file_extension": ".py"
    },
    "nteract": {
      "version": "nteract-front-end@1.0.0"
    },
    "vscode": {
      "interpreter": {
        "hash": "c87d6401964827bd736fe8e727109b953dd698457ca58fb5acabab22fd6dac41"
      }
    },
    "microsoft": {
      "host": {
        "AzureML": {
          "notebookHasBeenCompleted": true
        }
      },
      "ms_spell_check": {
        "ms_spell_check_language": "en"
      }
    }
  },
  "nbformat": 4,
  "nbformat_minor": 0
}
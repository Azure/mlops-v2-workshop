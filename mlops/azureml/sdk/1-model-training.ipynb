{
  "cells": [
    {
      "cell_type": "markdown",
      "source": [
        "For this workshop, you need:\n",
        "\n",
        "* An Azure Machine Learning workspace. \n",
        "* The Azure Machine Learning Python SDK v2 installed. \n",
        "\n",
        "To install the SDK you can either,\n",
        "\n",
        "Create a compute instance, which already has installed the latest AzureML Python SDK and is pre-configured for ML workflows.\n",
        "\n",
        "Use the followings commands to install Azure ML Python SDK v2:\n",
        "\n",
        "```bash\n",
        "pip install azure-ai-ml --upgrade\n",
        "```"
      ],
      "metadata": {}
    },
    {
      "cell_type": "markdown",
      "source": [
        "## Connect to ML Client"
      ],
      "metadata": {
        "nteract": {
          "transient": {
            "deleting": false
          }
        },
        "tags": []
      }
    },
    {
      "cell_type": "markdown",
      "source": [
        "To connect to a workspace, you need to provide a subscription, resource group and workspace name. These details are used in the `MLClient` from `azure.ai.ml` to get a handle to the required Azure Machine Learning workspace.\n",
        "\n",
        "In the following example, the default Azure authentication is used along with the default workspace configuration or from any `config.json` file you might have copied into the folders structure. If no `config.json` is found, then you need to manually introduce the subscription_id, resource_group and workspace when creating `MLClient`.\n",
        "\n",
        "```python\n",
        "from azure.identity import DefaultAzureCredential\n",
        "from azure.ai.ml import MLClient\n",
        "\n",
        "credential = DefaultAzureCredential()\n",
        "ml_client = None\n",
        "try:\n",
        "    ml_client = MLClient.from_config(credential)\n",
        "except Exception as ex:\n",
        "    print(ex)\n",
        "    # Enter details of your AzureML workspace\n",
        "    subscription_id = \"<SUBSCRIPTION_ID>\"\n",
        "    resource_group = \"<RESOURCE_GROUP>\"\n",
        "    workspace = \"<AZUREML_WORKSPACE_NAME>\"\n",
        "    ml_client = MLClient(credential, subscription_id, resource_group, workspace)\n",
        "```\n"
      ],
      "metadata": {}
    },
    {
      "cell_type": "code",
      "source": [
        "from azure.identity import DefaultAzureCredential, InteractiveBrowserCredential\n",
        "from azure.ai.ml import MLClient\n",
        "\n",
        "try:\n",
        "    credential = DefaultAzureCredential()\n",
        "    # Check if given credential can get token successfully.\n",
        "    credential.get_token(\"https://management.azure.com/.default\")\n",
        "except Exception as ex:\n",
        "    # Fall back to InteractiveBrowserCredential in case DefaultAzureCredential not work\n",
        "    credential = InteractiveBrowserCredential()\n",
        "\n",
        "# Add config.json file to the workspace\n",
        "# Get a handle to workspace\n",
        "ml_client = MLClient.from_config(credential=credential, path=\"config.json\")"
      ],
      "outputs": [],
      "execution_count": null,
      "metadata": {
        "collapsed": false,
        "gather": {
          "logged": 1668210226582
        },
        "jupyter": {
          "outputs_hidden": false,
          "source_hidden": false
        },
        "nteract": {
          "transient": {
            "deleting": false
          }
        }
      }
    },
    {
      "cell_type": "markdown",
      "source": [
        "# Model Training"
      ],
      "metadata": {
        "nteract": {
          "transient": {
            "deleting": false
          }
        },
        "tags": []
      }
    },
    {
      "cell_type": "markdown",
      "source": [
        "## 1. Create Managed Compute\n",
        "\n",
        "A compute is a designated compute resource where you run your job or host your endpoint. Azure Machine learning supports the following types of compute:\n",
        "\n",
        "- **Compute instance** - a fully configured and managed development environment in the cloud. You can use the instance as a training or inference compute for development and testing. It's similar to a virtual machine on the cloud.\n",
        "\n",
        "- **Compute cluster** - a managed-compute infrastructure that allows you to easily create a cluster of CPU or GPU compute nodes in the cloud.\n",
        "\n",
        "- **Inference cluster** - used to deploy trained machine learning models to Azure Kubernetes Service. You can create an Azure Kubernetes Service (AKS) cluster from your Azure ML workspace, or attach an existing AKS cluster.\n",
        "\n",
        "- **Attached compute** - You can attach your own compute resources to your workspace and use them for training and inference.\n",
        "\n",
        "You can create a compute using the Studio, the cli and the sdk.\n",
        "\n",
        "<hr>\n",
        "\n",
        "We can create a **compute instance** with cli v2 or sdk v2 using the following syntax:\n",
        "\n",
        "<center>\n",
        "<img src=\"../../../imgs/create_compute_instance.png\" width = \"700px\" alt=\"Create Compute Instance cli vs sdk\">\n",
        "</center>\n",
        "\n",
        "\n",
        "<hr>\n",
        "\n",
        "We can create a **compute cluster** with cli v2 or sdk v2 using the following syntax:\n",
        "\n",
        "<center>\n",
        "<img src=\"../../../imgs/create_compute_cluster.png\" width = \"700px\" alt=\"Create Compute Instance cli vs sdk\">\n",
        "</center>\n",
        "\n",
        "\n",
        "Let's create a managed compute cluster for the training workload."
      ],
      "metadata": {
        "nteract": {
          "transient": {
            "deleting": false
          }
        }
      }
    },
    {
      "cell_type": "code",
      "source": [
        "from azure.ai.ml.entities import AmlCompute\n",
        "\n",
        "my_cluster = AmlCompute(\n",
        "    name=### TO DO ###,\n",
        "    type=### TO DO ###, \n",
        "    size=\"STANDARD_DS3_V2\", \n",
        "    min_instances=0, \n",
        "    max_instances=4,\n",
        "    location=\"westeurope\", \t\n",
        ")\n",
        "\n",
        "ml_client.compute.begin_create_or_update(my_cluster)\n"
      ],
      "outputs": [],
      "execution_count": null,
      "metadata": {
        "collapsed": false,
        "gather": {
          "logged": 1668247356672
        },
        "jupyter": {
          "outputs_hidden": false,
          "source_hidden": false
        },
        "nteract": {
          "transient": {
            "deleting": false
          }
        }
      }
    },
    {
      "cell_type": "markdown",
      "source": [
        "## 2. Register Data Asset\n",
        "\n",
        "**Datastore** - Azure Machine Learning Datastores securely keep the connection information to your data storage on Azure, so you don't have to code it in your scripts.\n",
        "\n",
        "An Azure Machine Learning datastore is a **reference** to an **existing** storage account on Azure. The benefits of creating and using a datastore are:\n",
        "* A common and easy-to-use API to interact with different storage type. \n",
        "* Easier to discover useful datastores when working as a team.\n",
        "* When using credential-based access (service principal/SAS/key), the connection information is secured so you don't have to code it in your scripts.\n",
        "\n",
        "Supported Data Resources: \n",
        "\n",
        "* Azure Storage blob container\n",
        "* Azure Storage file share\n",
        "* Azure Data Lake Gen 1\n",
        "* Azure Data Lake Gen 2\n",
        "* Azure SQL Database \n",
        "* Azure PostgreSQL Database\n",
        "* Azure MySQL Database\n",
        "\n",
        "It is not a requirement to use Azure Machine Learning datastores - you can use storage URIs directly assuming you have access to the underlying data.\n",
        "\n",
        "You can create a datastore using the Studio, the cli and the sdk.\n",
        "\n",
        "<hr>\n",
        "\n",
        "We can create a **datastore** with cli v2 or sdk v2 using the following syntax:\n",
        "\n",
        "<center>\n",
        "<img src=\"../../../imgs/create_datastore.png\" width = \"700px\" alt=\"Create Datastore cli vs sdk\">\n",
        "</center>\n",
        "\n",
        "\n",
        "\n",
        "**Data asset** - Create data assets in your workspace to share with team members, version, and track data lineage.\n",
        "\n",
        "By creating a data asset, you create a reference to the data source location, along with a copy of its metadata. \n",
        "\n",
        "The benefits of creating data assets are:\n",
        "\n",
        "* You can **share and reuse data** with other members of the team such that they do not need to remember file locations.\n",
        "* You can **seamlessly access data** during model training (on any supported compute type) without worrying about connection strings or data paths.\n",
        "* You can **version** the data.\n",
        "\n",
        "<hr>\n",
        "\n",
        "We can create a **data asset** with cli v2 or sdk v2 using the following syntax:\n",
        "\n",
        "<center>\n",
        "<img src=\"../../../imgs/create_data_asset.png\" width = \"700px\" alt=\"Create Data Asset cli vs sdk\">\n",
        "</center>"
      ],
      "metadata": {
        "nteract": {
          "transient": {
            "deleting": false
          }
        }
      }
    },
    {
      "cell_type": "code",
      "source": [
        "from azure.ai.ml.entities import Data\n",
        "from azure.ai.ml.constants import AssetTypes\n",
        "\n",
        "my_data = Data(\n",
        "    path=\"../../../data/taxi-data.csv\",\n",
        "    type=### TO DO ###,\n",
        "    description=\"Taxi dataset\",\n",
        "    name=### TO DO ###\n",
        ")\n",
        "ml_client.data.create_or_update(my_data)"
      ],
      "outputs": [],
      "execution_count": null,
      "metadata": {
        "collapsed": false,
        "gather": {
          "logged": 1668210228966
        },
        "jupyter": {
          "outputs_hidden": false,
          "source_hidden": false
        },
        "nteract": {
          "transient": {
            "deleting": false
          }
        }
      }
    },
    {
      "cell_type": "markdown",
      "source": [
        "## 3. Register Train Environment\n",
        "\n",
        "Azure Machine Learning environments define the execution environments for your **jobs** or **deployments** and encapsulate the dependencies for your code. \n",
        "\n",
        "Azure ML uses the environment specification to create the Docker container that your **training** or **scoring code** runs in on the specified compute target.\n",
        "\n",
        "Create an environment from a\n",
        "* conda specification\n",
        "* Docker image\n",
        "* Docker build context\n",
        "\n",
        "There are two types of environments in Azure ML: **curated** and **custom environments**. Curated environments are predefined environments containing popular ML frameworks and tooling. Custom environments are user-defined.\n",
        "\n",
        "<hr>\n",
        "\n",
        "We can register an **environment** with cli v2 or sdk v2 using the following syntax:\n",
        "\n",
        "<center>\n",
        "<img src=\"../../../imgs/create_environment.png\" width = \"700px\" alt=\"Create Environment cli vs sdk\">\n",
        "</center>"
      ],
      "metadata": {}
    },
    {
      "cell_type": "code",
      "source": [
        "from azure.ai.ml.entities import Environment\n",
        "\n",
        "my_environment = Environment(\n",
        "    image=\"mcr.microsoft.com/azureml/openmpi3.1.2-ubuntu18.04\",\n",
        "    conda_file=\"../../../data-science/environment/train-conda.yml\",\n",
        "    name=### TO DO ###,\n",
        "    description=\"Environment created from a Docker image plus Conda environment to train taxi model.\",\n",
        ")\n",
        "\n",
        "### TO DO ### Create environment using ml_client"
      ],
      "outputs": [],
      "execution_count": null,
      "metadata": {
        "collapsed": false,
        "gather": {
          "logged": 1668210229980
        },
        "jupyter": {
          "outputs_hidden": false,
          "source_hidden": false
        },
        "nteract": {
          "transient": {
            "deleting": false
          }
        }
      }
    },
    {
      "cell_type": "markdown",
      "source": [
        "## 4. Create Pipeline Job\n",
        "\n",
        "**AML Job**:\n",
        "\n",
        "Azure ML provides several ways to train your models, from code-first solutions to low-code solutions:\n",
        "\n",
        "* Azure ML supports script files in python, R, Java, Julia or C#. All you need to learn is YAML format and command lines to use Azure ML.\n",
        "\n",
        "* Distributed Training: AML supports integrations with popular frameworks, PyTorch and TensorFlow. Both frameworks employ data parallelism & model parallelism for distributed training.\n",
        "\n",
        "* Automated ML - Train models without extensive data science or programming knowledge.\n",
        "\n",
        "* Designer - drag and drop web-based UI.\n",
        "\n",
        "<hr>\n",
        "\n",
        "We can submit a **job** with cli v2 or sdk v2 using the following syntax:\n",
        "\n",
        "<center>\n",
        "<img src=\"../../../imgs/create_job.png\" width = \"700px\" alt=\"Create Job cli vs sdk\">\n",
        "</center>\n",
        "\n",
        "<br>\n",
        "    \n",
        "**AML Pipelines**:\n",
        "\n",
        "An AML pipeline is an independently executable workflow of a complete machine learning task. It helps standardizing the best practices of producing a machine learning model: The core of a machine learning pipeline is to split a complete machine learning task into a multistep workflow. Each step is a manageable component that can be developed, optimized, configured, and automated individually. \n",
        "\n",
        "<hr>\n",
        "\n",
        "We can submit a **pipeline job** with cli v2 or sdk v2 using the following syntax:\n",
        "\n",
        "<center>\n",
        "<img src=\"../../../imgs/create_pipeline.png\" width = \"700px\" alt=\"Create Pipeline cli vs sdk\">\n",
        "</center>"
      ],
      "metadata": {
        "nteract": {
          "transient": {
            "deleting": false
          }
        }
      }
    },
    {
      "cell_type": "markdown",
      "source": [
        "**TO DO:** Make sure to fill the gaps in the source code `train.py` before running pipeline."
      ],
      "metadata": {
        "nteract": {
          "transient": {
            "deleting": false
          }
        }
      }
    },
    {
      "cell_type": "code",
      "source": [
        "from azure.ai.ml.dsl import pipeline\n",
        "from azure.ai.ml import Input, Output, load_component\n",
        "from azure.ai.ml.constants import AssetTypes, InputOutputModes\n",
        "\n",
        "# Create pipeline job\n",
        "parent_dir = \"../../../data-science\"\n",
        "\n",
        "# 1. Define components\n",
        "\n",
        "prep_data = command( \n",
        "    name=\"prep_data\",\n",
        "    display_name=\"prep-data\",\n",
        "    code=\"../../../data-science/src/prep\",\n",
        "    command=\"python prep.py \\\n",
        "            --raw_data ${{inputs.raw_data}} \\\n",
        "            --train_data ${{outputs.train_data}}  \\\n",
        "            --val_data ${{outputs.val_data}} \\\n",
        "            --test_data ${{outputs.test_data}} \\\n",
        "            --enable_monitoring ${{inputs.enable_monitoring}} \\\n",
        "            --table_name ${{inputs.table_name}}\",\n",
        "    environment=### TO DO ###,\n",
        "    inputs={\n",
        "        \"raw_data\": Input(type=\"uri_file\"),\n",
        "        \"enable_monitoring\": Input(type=\"string\"),\n",
        "        \"table_name\": Input(type=\"string\")\n",
        "        },\n",
        "    outputs={\n",
        "        \"train_data\": Output(type=\"uri_folder\"),\n",
        "        \"val_data\": Output(type=\"uri_folder\"),\n",
        "        \"test_data\": Output(type=\"uri_folder\"),\n",
        "        }\n",
        ")\n",
        "\n",
        "train_model = command( \n",
        "    name=\"train_model\",\n",
        "    display_name=\"train-model\",\n",
        "    code=\"../../../data-science/src/train\",\n",
        "    command=\"python train.py \\\n",
        "            --train_data ${{inputs.train_data}} \\\n",
        "            --model_output ${{outputs.model_output}}\",\n",
        "    environment=### TO DO ###,\n",
        "    inputs={\"train_data\": Input(type=\"uri_folder\")},\n",
        "    outputs={\"model_output\": Output(type=\"uri_folder\")}\n",
        ")\n",
        "\n",
        "evaluate_model = command(\n",
        "    name=\"evaluate_model\",\n",
        "    display_name=\"evaluate-model\",\n",
        "    code=\"../../../data-science/src/evaluate\",\n",
        "    command=\"python evaluate.py \\\n",
        "            --model_name ${{inputs.model_name}} \\\n",
        "            --model_input ${{inputs.model_input}} \\\n",
        "            --test_data ${{inputs.test_data}} \\\n",
        "            --evaluation_output ${{outputs.evaluation_output}}\",\n",
        "    environment=### TO DO ###,\n",
        "    inputs={\n",
        "        \"model_name\": Input(type=\"string\"),\n",
        "        \"model_input\": Input(type=\"uri_folder\"),\n",
        "        \"test_data\": Input(type=\"uri_folder\")\n",
        "        },\n",
        "    outputs={\n",
        "        \"evaluation_output\": Output(type=\"uri_folder\")\n",
        "        }\n",
        ")\n",
        "\n",
        "register_model = command(\n",
        "    name=\"register_model\",\n",
        "    display_name=\"register-model\",\n",
        "    code=\"../../../data-science/src/register\",\n",
        "    command=\"python register.py \\\n",
        "            --model_name ${{inputs.model_name}} \\\n",
        "            --model_path ${{inputs.model_path}} \\\n",
        "            --evaluation_output ${{inputs.evaluation_output}} \\\n",
        "            --model_info_output_path ${{outputs.model_info_output_path}}\",\n",
        "    environment=### TO DO ###,\n",
        "    inputs={\n",
        "        \"model_name\": Input(type=\"string\"),\n",
        "        \"model_path\": Input(type=\"uri_folder\"),\n",
        "        \"evaluation_output\": Input(type=\"uri_folder\")\n",
        "        },\n",
        "    outputs={\n",
        "        \"model_info_output_path\": Output(type=\"uri_folder\")\n",
        "        }\n",
        ")\n",
        "\n",
        "# 2. Construct pipeline\n",
        "@pipeline()\n",
        "def taxi_training_pipeline(raw_data, enable_monitoring, table_name):\n",
        "    \n",
        "    prep = prep_data(\n",
        "        raw_data=raw_data,\n",
        "        enable_monitoring=enable_monitoring, \n",
        "        table_name=table_name\n",
        "    )\n",
        "\n",
        "    train = train_model(\n",
        "        train_data=prep.outputs.train_data\n",
        "    )\n",
        "\n",
        "    evaluate = evaluate_model(\n",
        "        model_name=\"taxi-model\",\n",
        "        model_input=### TO DO ###,\n",
        "        test_data=### TO DO ###\n",
        "    )\n",
        "\n",
        "\n",
        "    register = register_model(\n",
        "        model_name=\"taxi-model\",\n",
        "        model_path=### TO DO ###,\n",
        "        evaluation_output=evaluate.outputs.evaluation_output\n",
        "    )\n",
        "\n",
        "    return {\n",
        "        \"pipeline_job_train_data\": prep.outputs.train_data,\n",
        "        \"pipeline_job_test_data\": prep.outputs.test_data,\n",
        "        \"pipeline_job_trained_model\": train.outputs.model_output,\n",
        "        \"pipeline_job_score_report\": evaluate.outputs.evaluation_output,\n",
        "    }\n",
        "\n",
        "\n",
        "pipeline_job = taxi_training_pipeline(\n",
        "    Input(type=AssetTypes.URI_FILE, path=### TO DO ###), \"false\", \"taximonitoring\"\n",
        ")\n",
        "\n",
        "# set pipeline level compute\n",
        "pipeline_job.settings.default_compute = ### TO DO ###\n",
        "# set pipeline level datastore\n",
        "pipeline_job.settings.default_datastore = ### TO DO ###"
      ],
      "outputs": [],
      "execution_count": null,
      "metadata": {
        "collapsed": false,
        "gather": {
          "logged": 1668213857958
        },
        "jupyter": {
          "outputs_hidden": false,
          "source_hidden": false
        },
        "nteract": {
          "transient": {
            "deleting": false
          }
        }
      }
    },
    {
      "cell_type": "code",
      "source": [
        "pipeline_job = ml_client.jobs.create_or_update(\n",
        "    pipeline_job, experiment_name=\"pipeline_samples\"\n",
        ")\n",
        "pipeline_job"
      ],
      "outputs": [],
      "execution_count": null,
      "metadata": {
        "collapsed": false,
        "gather": {
          "logged": 1668213874136
        },
        "jupyter": {
          "outputs_hidden": false,
          "source_hidden": false
        },
        "nteract": {
          "transient": {
            "deleting": false
          }
        }
      }
    }
  ],
  "metadata": {
    "kernel_info": {
      "name": "python310-sdkv2"
    },
    "kernelspec": {
      "name": "python310-sdkv2",
      "language": "python",
      "display_name": "Python 3.10 - SDK V2"
    },
    "language_info": {
      "name": "python",
      "version": "3.10.6",
      "mimetype": "text/x-python",
      "codemirror_mode": {
        "name": "ipython",
        "version": 3
      },
      "pygments_lexer": "ipython3",
      "nbconvert_exporter": "python",
      "file_extension": ".py"
    },
    "microsoft": {
      "host": {
        "AzureML": {
          "notebookHasBeenCompleted": true
        }
      }
    },
    "nteract": {
      "version": "nteract-front-end@1.0.0"
    }
  },
  "nbformat": 4,
  "nbformat_minor": 4
}
{
  "cells": [
    {
      "cell_type": "markdown",
      "source": [
        "For this workshop, you need:\n",
        "\n",
        "* An Azure Machine Learning workspace. \n",
        "* The Azure Machine Learning Python SDK v2 installed. \n",
        "\n",
        "To install the SDK you can either,\n",
        "\n",
        "Create a compute instance, which already has installed the latest AzureML Python SDK and is pre-configured for ML workflows.\n",
        "\n",
        "Use the followings commands to install Azure ML Python SDK v2:\n",
        "\n",
        "```bash\n",
        "pip install azure-ai-ml --upgrade\n",
        "```"
      ],
      "metadata": {}
    },
    {
      "cell_type": "markdown",
      "source": [
        "## Connect to ML Client"
      ],
      "metadata": {
        "nteract": {
          "transient": {
            "deleting": false
          }
        },
        "tags": []
      }
    },
    {
      "cell_type": "markdown",
      "source": [
        "To connect to a workspace, you need to provide a subscription, resource group and workspace name. These details are used in the `MLClient` from `azure.ai.ml` to get a handle to the required Azure Machine Learning workspace.\n",
        "\n",
        "In the following example, the default Azure authentication is used along with the default workspace configuration or from any `config.json` file you might have copied into the folders structure. If no `config.json` is found, then you need to manually introduce the subscription_id, resource_group and workspace when creating `MLClient`.\n",
        "\n",
        "```python\n",
        "from azure.identity import DefaultAzureCredential\n",
        "from azure.ai.ml import MLClient\n",
        "\n",
        "credential = DefaultAzureCredential()\n",
        "ml_client = None\n",
        "try:\n",
        "    ml_client = MLClient.from_config(credential)\n",
        "except Exception as ex:\n",
        "    print(ex)\n",
        "    # Enter details of your AzureML workspace\n",
        "    subscription_id = \"<SUBSCRIPTION_ID>\"\n",
        "    resource_group = \"<RESOURCE_GROUP>\"\n",
        "    workspace = \"<AZUREML_WORKSPACE_NAME>\"\n",
        "    ml_client = MLClient(credential, subscription_id, resource_group, workspace)\n",
        "```\n"
      ],
      "metadata": {}
    },
    {
      "cell_type": "code",
      "source": [
        "from azure.identity import DefaultAzureCredential\n",
        "from azure.ai.ml import MLClient\n",
        "\n",
        "# Retrieve details of Azure ML workspace from environment variables of your Compute Instance\n",
        "subscription_id = re.search(\"subscriptions/(.*)/resourceGroups\", os.environ[\"MLFLOW_TRACKING_URI\"]).group(\n",
        "    1\n",
        ")  # Extract Azure Subcription ID from MLFlow Tracking URI\n",
        "resource_group = os.environ[\"CI_RESOURCE_GROUP\"]\n",
        "workspace_name = os.environ[\"CI_WORKSPACE\"]\n",
        "\n",
        "# Connect to Azure ML workspace\n",
        "ml_client = MLClient(\n",
        "    credential=DefaultAzureCredential(),\n",
        "    subscription_id=subscription_id,\n",
        "    resource_group_name=resource_group,\n",
        "    workspace_name=workspace_name,\n",
        ")"
      ],
      "outputs": [
        {
          "output_type": "stream",
          "name": "stderr",
          "text": "Found the config file in: /config.json\n"
        }
      ],
      "execution_count": 1,
      "metadata": {
        "collapsed": false,
        "gather": {
          "logged": 1682561954640
        },
        "jupyter": {
          "outputs_hidden": false,
          "source_hidden": false
        },
        "nteract": {
          "transient": {
            "deleting": false
          }
        }
      }
    },
    {
      "cell_type": "markdown",
      "source": [
        "# Batch Endpoint\n",
        "\n",
        "**Batch endpoints** are endpoints that are used to do batch inferencing on large volumes of data over a period of time. \n",
        "\n",
        "**Batch endpoints** receive pointers to data and run jobs asynchronously to process the data in parallel on compute clusters. Batch endpoints store outputs to a data store for further analysis.\n",
        "\n",
        "<center>\n",
        "<img src=\"../../../imgs/concept_batch_endpoint.png\" width = \"700px\" alt=\"Concept batch endpoint\">\n",
        "</center>"
      ],
      "metadata": {}
    },
    {
      "cell_type": "markdown",
      "source": [
        "## 1. Create Batch Compute Cluster"
      ],
      "metadata": {}
    },
    {
      "cell_type": "code",
      "source": [
        "# create compute cluster to be used by batch cluster\n",
        "from azure.ai.ml.entities import AmlCompute\n",
        "\n",
        "my_cluster = AmlCompute(\n",
        "    name=### TO DO ###,\n",
        "    type=### TO DO ###, \n",
        "    size=\"STANDARD_DS3_V2\", \n",
        "    min_instances=0, \n",
        "    max_instances=3,\n",
        "    location=\"westeurope\", \t\n",
        ")\n",
        "ml_client.compute.begin_create_or_update(my_cluster)"
      ],
      "outputs": [],
      "execution_count": null,
      "metadata": {
        "gather": {
          "logged": 1668247613855
        }
      }
    },
    {
      "cell_type": "markdown",
      "source": [
        "## 2. Create Batch Endpoint\n",
        "\n",
        "We can create the **batch endpoint** with cli v2 or sdk v2 using the following syntax:\n",
        "\n",
        "\n",
        "<center>\n",
        "<img src=\"../../../imgs/create_batch_endpoint.png\" width = \"700px\" alt=\"Create batch endpoint cli vs sdk\">\n",
        "</center>"
      ],
      "metadata": {}
    },
    {
      "cell_type": "code",
      "source": [
        "# create batch endpoint\r\n",
        "from azure.ai.ml.entities import BatchEndpoint\r\n",
        "\r\n",
        "batch_endpoint = BatchEndpoint(\r\n",
        "    name=### TO DO ###,\r\n",
        "    description=### TO DO ###,\r\n",
        "    tags={\"model\": ### TO DO ###},\r\n",
        ")\r\n",
        "\r\n",
        "ml_client.begin_create_or_update(batch_endpoint)"
      ],
      "outputs": [],
      "execution_count": null,
      "metadata": {
        "jupyter": {
          "source_hidden": false,
          "outputs_hidden": false
        },
        "nteract": {
          "transient": {
            "deleting": false
          }
        }
      }
    },
    {
      "cell_type": "markdown",
      "source": [
        "## 3. Create Batch Deployment\n",
        "\n",
        "We can create the **batch deployment** with cli v2 or sdk v2 using the following syntax:\n",
        "\n",
        "<center>\n",
        "<img src=\"../../../imgs/create_batch_deployment.png\" width = \"700px\" alt=\"Create batch deployment cli vs sdk\">\n",
        "</center>\n",
        "\n",
        "Note that if you're deploying **MLFlow models**, there's no need to provide **a scoring script** and execution **environment**, as both are autogenerated."
      ],
      "metadata": {}
    },
    {
      "cell_type": "code",
      "source": [
        "# create batch deployment\r\n",
        "from azure.ai.ml.entities import BatchDeployment, Model, Environment\r\n",
        "from azure.ai.ml.constants import BatchDeploymentOutputAction\r\n",
        "from azure.ai.ml.entities import (\r\n",
        "    Environment,\r\n",
        "    CodeConfiguration,\r\n",
        ")\r\n",
        "\r\n",
        "\r\n",
        "env = Environment(\r\n",
        "    conda_file=\"../../../data-science/environment/deploy-batch-conda.yml\",\r\n",
        "    image=\"mcr.microsoft.com/azureml/openmpi4.1.0-ubuntu20.04:latest\",\r\n",
        ")\r\n",
        "\r\n",
        "batch_deployment = BatchDeployment(\r\n",
        "    name=### TO DO ###,\r\n",
        "    description=### TO DO ###,\r\n",
        "    endpoint_name=### TO DO ###,\r\n",
        "    model=### TO DO ###,\r\n",
        "    environment=### TO DO ###,\r\n",
        "    code_configuration=CodeConfiguration(\r\n",
        "        code=\"../../../data-science/src/score\", scoring_script=### TO DO ###\r\n",
        "    ),\r\n",
        "    compute=### TO DO ###,\r\n",
        "    instance_count=2,\r\n",
        "    max_concurrency_per_instance=4,\r\n",
        "    mini_batch_size=200,\r\n",
        "    output_action=BatchDeploymentOutputAction.APPEND_ROW,\r\n",
        "    output_file_name=\"predictions.csv\",\r\n",
        ")\r\n",
        "\r\n",
        "ml_client.begin_create_or_update(batch_deployment)\r\n"
      ],
      "outputs": [],
      "execution_count": null,
      "metadata": {
        "jupyter": {
          "source_hidden": false,
          "outputs_hidden": false
        },
        "nteract": {
          "transient": {
            "deleting": false
          }
        }
      }
    },
    {
      "cell_type": "markdown",
      "source": [
        "Set deployment as the default deployment in the endpoint:"
      ],
      "metadata": {
        "nteract": {
          "transient": {
            "deleting": false
          }
        }
      }
    },
    {
      "cell_type": "code",
      "source": [
        "batch_endpoint = ml_client.batch_endpoints.get(### TO DO ###)\n",
        "batch_endpoint.defaults.deployment_name = batch_deployment.name\n",
        "ml_client.batch_endpoints.begin_create_or_update(batch_endpoint)"
      ],
      "outputs": [
        {
          "output_type": "execute_result",
          "execution_count": 19,
          "data": {
            "text/plain": "<azure.core.polling._poller.LROPoller at 0x7fdc443f3160>"
          },
          "metadata": {}
        }
      ],
      "execution_count": 19,
      "metadata": {
        "collapsed": false,
        "gather": {
          "logged": 1682565340070
        },
        "jupyter": {
          "outputs_hidden": false
        },
        "nteract": {
          "transient": {
            "deleting": false
          }
        }
      }
    },
    {
      "cell_type": "markdown",
      "source": [
        "## 4. Invoke and Test Endpoint\n",
        "\n",
        "We can invoke the **batch deployment** with cli v2 or sdk v2 using the following syntax:\n",
        "\n",
        "<center>\n",
        "<img src=\"../../../imgs/invoke_batch_deployment.png\" width = \"700px\" alt=\"Invoke batch deployment cli vs sdk\">\n",
        "</center>"
      ],
      "metadata": {}
    },
    {
      "cell_type": "code",
      "source": [
        "# invoke and test endpoint\r\n",
        "from azure.ai.ml import Input\r\n",
        "from azure.ai.ml.constants import AssetTypes, InputOutputModes\r\n",
        "\r\n",
        "input = Input(path=\"../../../data/taxi-batch.csv\", \r\n",
        "              type=AssetTypes.URI_FILE, \r\n",
        "              mode=InputOutputModes.DOWNLOAD)\r\n",
        "\r\n",
        "\r\n",
        "# invoke the endpoint for batch scoring job\r\n",
        "ml_client.batch_endpoints.invoke(\r\n",
        "    endpoint_name=### TO DO ###,\r\n",
        "    input=input,\r\n",
        "    deployment_name=### TO DO ###\r\n",
        ")"
      ],
      "outputs": [],
      "execution_count": null,
      "metadata": {
        "jupyter": {
          "source_hidden": false,
          "outputs_hidden": false
        },
        "nteract": {
          "transient": {
            "deleting": false
          }
        }
      }
    }
  ],
  "metadata": {
    "kernel_info": {
      "name": "python310-sdkv2"
    },
    "kernelspec": {
      "name": "python310-sdkv2",
      "language": "python",
      "display_name": "Python 3.10 - SDK v2"
    },
    "language_info": {
      "name": "python",
      "version": "3.10.10",
      "mimetype": "text/x-python",
      "codemirror_mode": {
        "name": "ipython",
        "version": 3
      },
      "pygments_lexer": "ipython3",
      "nbconvert_exporter": "python",
      "file_extension": ".py"
    },
    "microsoft": {
      "host": {
        "AzureML": {
          "notebookHasBeenCompleted": true
        }
      },
      "ms_spell_check": {
        "ms_spell_check_language": "en"
      }
    },
    "nteract": {
      "version": "nteract-front-end@1.0.0"
    }
  },
  "nbformat": 4,
  "nbformat_minor": 4
}